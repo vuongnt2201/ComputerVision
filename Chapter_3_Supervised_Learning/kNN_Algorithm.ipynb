{
  "cells": [
    {
      "cell_type": "markdown",
      "source": [
        "Chúng ta sẽ làm việc trên bộ dữ liệu Iris flower dataset. Bộ dữ liệu gồm thông tin của ba loại hoa Iris(một loài hoa lan) khác nhau: Iris setosa, Iris virginica và Iris versicolor. Mỗi loại có 50 bông hoa được đo với dữ liệu là 4 thông tin: chiều dài, chiều rộng của đài hoa và chiều dài, chiều rộng của cánh hoa. \n",
        "\n",
        "Chúng ta sẽ tách 150 dữ liệu trong Iris flower dataset thành 2 phần, training set và test set. Thuật toán KNN sẽ dựa vào thông tin ở training set để dự đoán xem mỗi dữ liệu trong test set tương ứng với loại hoa nào. Dữ liệu này sẽ được đối chiếu với ba loại hoa thật của mỗi dữ liệu trong test set để đánh giá hiệu quả của KNN.\n"
      ],
      "metadata": {
        "id": "_TeX1ebxeKeq"
      }
    },
    {
      "cell_type": "code",
      "source": [
        "#import một số thư viện cần thiết\n",
        "import numpy as np\n",
        "import matplotlib.pyplot as plt\n",
        "from sklearn import neighbors, datasets\n",
        "from sklearn.metrics import accuracy_score\n",
        "from sklearn.model_selection import train_test_split\n",
        "\n",
        "#load dữ liệu từ datasets\n",
        "iris = datasets.load_iris()\n",
        "iris_X = iris.data\n",
        "iris_y = iris.target\n",
        "\n",
        "#chia dữ liệu thành 2 phần, 100 mẫu cho training và 50 mẫu test\n",
        "X_train, X_test, y_train, y_test = train_test_split(\n",
        "     iris_X, iris_y, test_size=50)"
      ],
      "metadata": {
        "id": "-ieJF1dwePcD"
      },
      "execution_count": null,
      "outputs": []
    },
    {
      "cell_type": "code",
      "source": [
        "#thuật toán KNN với k = 1\n",
        "clf = neighbors.KNeighborsClassifier(n_neighbors = 1, p = 2)\n",
        "clf.fit(X_train, y_train)\n",
        "y_pred = clf.predict(X_test)\n",
        "\n",
        "#hiển thị dự đoán của 20 điểm dữ liệu\n",
        "print(\"Print results for 20 test data points:\")\n",
        "print(\"Predicted labels: \", y_pred[20:40])\n",
        "print(\"Ground truth    : \", y_test[20:40])\n",
        "\n",
        "#Accuracy\n",
        "print(\"Accuracy of 1NN: %.2f %%\" %(100*accuracy_score(y_test, y_pred)))"
      ],
      "metadata": {
        "colab": {
          "base_uri": "https://localhost:8080/"
        },
        "id": "eN1IYG82fb7m",
        "outputId": "d0524663-6c94-4a14-c97c-481a433c8c50"
      },
      "execution_count": null,
      "outputs": [
        {
          "output_type": "stream",
          "name": "stdout",
          "text": [
            "Print results for 20 test data points:\n",
            "Predicted labels:  [0 0 0 1 1 2 1 2 1 0 2 2 0 2 2 0 1 0 1 2]\n",
            "Ground truth    :  [0 0 0 1 1 2 1 2 1 0 1 2 0 2 2 0 2 0 1 2]\n",
            "Accuracy of 1NN: 96.00 %\n"
          ]
        }
      ]
    },
    {
      "cell_type": "markdown",
      "source": [
        "Accuracy 96%, chứng tỏ thuật toán hoạt động rất tốt với những bộ data nhỏ"
      ],
      "metadata": {
        "id": "9SthSsebftGC"
      }
    },
    {
      "cell_type": "markdown",
      "source": [
        "Tiếp đến là major voting"
      ],
      "metadata": {
        "id": "C2LvYBBVf27a"
      }
    },
    {
      "cell_type": "code",
      "source": [
        "#Với k = 10\n",
        "clf = neighbors.KNeighborsClassifier(n_neighbors = 10, p = 2)\n",
        "clf.fit(X_train, y_train)\n",
        "y_pred = clf.predict(X_test)\n",
        "\n",
        "#hiển thị dự đoán của 20 điểm dữ liệu\n",
        "print(\"Print results for 20 test data points:\")\n",
        "print(\"Predicted labels: \", y_pred[20:40])\n",
        "print(\"Ground truth    : \", y_test[20:40])\n",
        "\n",
        "#Accuracy\n",
        "print(\"Accuracy of 10NN with major voting: %.2f %%\" %(100*accuracy_score(y_test, y_pred)))"
      ],
      "metadata": {
        "colab": {
          "base_uri": "https://localhost:8080/"
        },
        "id": "gui-4UTSgFYl",
        "outputId": "11a8540b-32e5-417e-83d4-cf70b0e16a02"
      },
      "execution_count": null,
      "outputs": [
        {
          "output_type": "stream",
          "name": "stdout",
          "text": [
            "Print results for 20 test data points:\n",
            "Predicted labels:  [0 0 0 1 1 2 1 2 1 0 2 2 0 2 2 0 2 0 1 2]\n",
            "Ground truth    :  [0 0 0 1 1 2 1 2 1 0 1 2 0 2 2 0 2 0 1 2]\n",
            "Accuracy of 10NN with major voting: 98.00 %\n"
          ]
        }
      ]
    },
    {
      "cell_type": "markdown",
      "source": [
        "Tỉ lệ đã tăng lên 98%, major voting lọc được thêm một số điểm dữ liệu bị nhiễu"
      ],
      "metadata": {
        "id": "k8XDpFk0gYV8"
      }
    },
    {
      "cell_type": "markdown",
      "source": [
        "Lần này chúng ta sẽ thử gắn thêm trọng số vào các điểm gần kề"
      ],
      "metadata": {
        "id": "kDNhIlyPgfz7"
      }
    },
    {
      "cell_type": "code",
      "source": [
        "#gán trọng số cho từng điểm kề cận là khoảng cách \n",
        "clf = neighbors.KNeighborsClassifier(n_neighbors = 10, p = 2, weights = 'distance')\n",
        "clf.fit(X_train, y_train)\n",
        "y_pred = clf.predict(X_test)\n",
        "\n",
        "#hiển thị dự đoán của 20 điểm dữ liệu\n",
        "print(\"Print results for 20 test data points:\")\n",
        "print(\"Predicted labels: \", y_pred[20:40])\n",
        "print(\"Ground truth    : \", y_test[20:40])\n",
        "\n",
        "#Accuracy\n",
        "print(\"Accuracy of 10NN with major voting: %.2f %%\" %(100*accuracy_score(y_test, y_pred)))"
      ],
      "metadata": {
        "colab": {
          "base_uri": "https://localhost:8080/"
        },
        "id": "26232RVGggva",
        "outputId": "f4a73115-92c5-45b3-a9f2-0029f4101bc0"
      },
      "execution_count": null,
      "outputs": [
        {
          "output_type": "stream",
          "name": "stdout",
          "text": [
            "Print results for 20 test data points:\n",
            "Predicted labels:  [0 0 0 1 1 2 1 2 1 0 2 2 0 2 2 0 2 0 1 2]\n",
            "Ground truth    :  [0 0 0 1 1 2 1 2 1 0 1 2 0 2 2 0 2 0 1 2]\n",
            "Accuracy of 10NN with major voting: 98.00 %\n"
          ]
        }
      ]
    },
    {
      "cell_type": "markdown",
      "source": [
        "Tỉ lệ 98%, hoạt động rất tốt"
      ],
      "metadata": {
        "id": "Aaf5QiOQg33M"
      }
    }
  ],
  "metadata": {
    "colab": {
      "collapsed_sections": [],
      "name": "kNN_Algorithm",
      "provenance": [],
      "toc_visible": true
    },
    "kernelspec": {
      "display_name": "Python 3",
      "name": "python3"
    }
  },
  "nbformat": 4,
  "nbformat_minor": 0
}