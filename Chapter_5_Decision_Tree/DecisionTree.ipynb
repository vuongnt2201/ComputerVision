{
  "nbformat": 4,
  "nbformat_minor": 0,
  "metadata": {
    "colab": {
      "name": "DecisionTree.ipynb",
      "provenance": [],
      "collapsed_sections": []
    },
    "kernelspec": {
      "name": "python3",
      "display_name": "Python 3"
    },
    "language_info": {
      "name": "python"
    }
  },
  "cells": [
    {
      "cell_type": "markdown",
      "source": [
        "**Decision Tree**"
      ],
      "metadata": {
        "id": "RFYA99wLESdw"
      }
    },
    {
      "cell_type": "markdown",
      "source": [
        "Chúng ta có một tệp dữ liệu của 20 bệnh nhân. Dữ liệu bao gồm thông tin của bệnh nhân, nồng độ cholesterol, Na, Kali và dựa trên đó là loại thuốc A, B, C, B mà bác sĩ cấp cho bệnh nhân sử dụng:"
      ],
      "metadata": {
        "id": "iSRHgr7-EY8N"
      }
    },
    {
      "cell_type": "code",
      "execution_count": 40,
      "metadata": {
        "id": "KvfBsJsw7y5g"
      },
      "outputs": [],
      "source": [
        "data = [\n",
        "{'age': 33, 'sex': 'F', 'BP': 'high', 'cholesterol': 'high',\n",
        "'Na': 0.66, 'K': 0.06, 'drug': 'A'},\n",
        "{'age': 77, 'sex': 'F', 'BP': 'high', 'cholesterol': 'normal',\n",
        "'Na': 0.19, 'K': 0.03, 'drug': 'D'},\n",
        "{'age': 88, 'sex': 'M', 'BP': 'normal', 'cholesterol': 'normal',\n",
        "'Na': 0.80, 'K': 0.05, 'drug': 'B'},\n",
        "{'age': 39, 'sex': 'F', 'BP': 'low', 'cholesterol': 'normal',\n",
        "'Na': 0.19, 'K': 0.02, 'drug': 'C'},\n",
        "{'age': 43, 'sex': 'M', 'BP': 'normal', 'cholesterol': 'high',\n",
        "'Na': 0.36, 'K': 0.03, 'drug': 'D'},\n",
        "{'age': 82, 'sex': 'F', 'BP': 'normal', 'cholesterol': 'normal',\n",
        "'Na': 0.09, 'K': 0.09, 'drug': 'C'},\n",
        "{'age': 40, 'sex': 'M', 'BP': 'high', 'cholesterol': 'normal',\n",
        "'Na': 0.89, 'K': 0.02, 'drug': 'A'},\n",
        "{'age': 88, 'sex': 'M', 'BP': 'normal', 'cholesterol': 'normal',\n",
        "'Na': 0.80, 'K': 0.05, 'drug': 'B'},\n",
        "{'age': 29, 'sex': 'F', 'BP': 'high', 'cholesterol': 'normal',\n",
        "'Na': 0.35, 'K': 0.04, 'drug': 'D'},\n",
        "{'age': 53, 'sex': 'F', 'BP': 'normal', 'cholesterol': 'normal',\n",
        "'Na': 0.54, 'K': 0.06, 'drug': 'C'},\n",
        "{'age': 63, 'sex': 'M', 'BP': 'low', 'cholesterol': 'high',\n",
        "'Na': 0.86, 'K': 0.09, 'drug': 'B'},\n",
        "{'age': 60, 'sex': 'M', 'BP': 'low', 'cholesterol': 'normal',\n",
        "'Na': 0.66, 'K': 0.04, 'drug': 'C'},\n",
        "{'age': 55, 'sex': 'M', 'BP': 'high', 'cholesterol': 'high',\n",
        "'Na': 0.82, 'K': 0.04, 'drug': 'B'},\n",
        "{'age': 35, 'sex': 'F', 'BP': 'normal', 'cholesterol': 'high',\n",
        "'Na': 0.27, 'K': 0.03, 'drug': 'D'},\n",
        "{'age': 23, 'sex': 'F', 'BP': 'high', 'cholesterol': 'high',\n",
        "'Na': 0.55, 'K': 0.08, 'drug': 'A'},\n",
        "{'age': 49, 'sex': 'F', 'BP': 'low', 'cholesterol': 'normal',\n",
        "'Na': 0.27, 'K': 0.05, 'drug': 'C'},\n",
        "{'age': 27, 'sex': 'M', 'BP': 'normal', 'cholesterol': 'normal',\n",
        "'Na': 0.77, 'K': 0.02, 'drug': 'B'},\n",
        "{'age': 51, 'sex': 'F', 'BP': 'low', 'cholesterol': 'high',\n",
        "'Na': 0.20, 'K': 0.02, 'drug': 'D'},\n",
        "{'age': 38, 'sex': 'M', 'BP': 'high', 'cholesterol': 'normal',\n",
        "'Na': 0.78, 'K': 0.05, 'drug': 'A'}\n",
        "]\n"
      ]
    },
    {
      "cell_type": "markdown",
      "source": [
        "Chắc chắn sẽ có lí do để bác sĩ kê đơn thuốc A, B, C, D từ những loại thông tin trên. Tuy nhiên nếu không phải người trong ngành thì tìm ra mối quan hệ giữa các loại thông tin này là rất khó. \n",
        "Chúng ta sẽ dùng decision tree để thử tìm xem các mối quan hệ này"
      ],
      "metadata": {
        "id": "Z8Zw7LBoFIzz"
      }
    },
    {
      "cell_type": "markdown",
      "source": [
        "Đầu tiên, bởi vì nhiệm vụ của chúng ta là khám phá ra mối quan hệ giữa các loại dữ liệu và gán nhãn cho chúng, thế nên mục \"drug\" sẽ là kết quả cuối cùng của chúng ta. \n",
        "Nên trong quá trình phân tích chúng ta sẽ tách chúng ra khỏi tập dữ liệu"
      ],
      "metadata": {
        "id": "uxvuEZ8bFscS"
      }
    },
    {
      "cell_type": "code",
      "source": [
        "target = [d['drug'] for d in data]\n",
        "print(target)\n",
        "[d.pop('drug') for d in data];"
      ],
      "metadata": {
        "colab": {
          "base_uri": "https://localhost:8080/"
        },
        "id": "uz7WSSMC8s-e",
        "outputId": "6f7a814c-bcde-4095-d1b5-a7c71e32b4ad"
      },
      "execution_count": 41,
      "outputs": [
        {
          "output_type": "stream",
          "name": "stdout",
          "text": [
            "['A', 'D', 'B', 'C', 'D', 'C', 'A', 'B', 'D', 'C', 'B', 'C', 'B', 'D', 'A', 'C', 'B', 'D', 'A']\n"
          ]
        }
      ]
    },
    {
      "cell_type": "markdown",
      "source": [
        "Tiếp đến chúng ta sẽ thử vẽ biểu đồ lượng Natri so với Kali "
      ],
      "metadata": {
        "id": "dh5otzvXGB8Q"
      }
    },
    {
      "cell_type": "code",
      "source": [
        "import matplotlib.pyplot as plt\n",
        "\n",
        "age = [d['age'] for d in data]\n",
        "sodium = [d['Na'] for d in data]\n",
        "potassium = [d['K'] for d in data]\n",
        "\n",
        "plt.scatter(sodium, potassium)\n",
        "plt.xlabel('sodium')\n",
        "plt.ylabel('potassium')\n",
        "plt.show()"
      ],
      "metadata": {
        "colab": {
          "base_uri": "https://localhost:8080/",
          "height": 279
        },
        "id": "njTMLFnU84Gj",
        "outputId": "926569c1-2c8a-4a84-dee5-477e8ab7cc82"
      },
      "execution_count": 42,
      "outputs": [
        {
          "output_type": "display_data",
          "data": {
            "text/plain": [
              "<Figure size 432x288 with 1 Axes>"
            ],
            "image/png": "[encoded data removed]"
          },
          "metadata": {
            "needs_background": "light"
          }
        }
      ]
    },
    {
      "cell_type": "markdown",
      "source": [
        "Có vẻ biểu đồ trên vẫn chưa chứa quá nhiều thông tin.\n",
        "Thử kết hợp chúng với loại thuốc đã được kê, phân loại chúng dựa trên màu sắc\n",
        "(A, B, C, D theo thứ tự 1, 2, 3, 4 kết hợp với hàm scatter để tự động phân loại màu cho nó)"
      ],
      "metadata": {
        "id": "ZBVA1ThxGQ8H"
      }
    },
    {
      "cell_type": "code",
      "source": [
        "target = [ord(t) - 65 for t in target]\n",
        "plt.subplot(221)\n",
        "plt.scatter(sodium, potassium, c=target, s=100)\n",
        "plt.xlabel('sodium (Na)')\n",
        "plt.ylabel('potassium (K)')\n",
        "plt.subplot(222)\n",
        "plt.scatter(age, potassium, c=target, s=100)\n",
        "plt.xlabel('age')\n",
        "plt.ylabel('potassium (K)')\n",
        "plt.subplot(223)\n",
        "plt.scatter(age, sodium, c=target, s=100)\n",
        "plt.xlabel('age')\n",
        "plt.ylabel('sodium (Na)')\n"
      ],
      "metadata": {
        "colab": {
          "base_uri": "https://localhost:8080/",
          "height": 296
        },
        "id": "3dQ_1PPR9IZ8",
        "outputId": "d4c25ec6-f086-4426-bcf6-bb8d48764c4d"
      },
      "execution_count": 43,
      "outputs": [
        {
          "output_type": "execute_result",
          "data": {
            "text/plain": [
              "Text(0, 0.5, 'sodium (Na)')"
            ]
          },
          "metadata": {},
          "execution_count": 43
        },
        {
          "output_type": "display_data",
          "data": {
            "text/plain": [
              "<Figure size 432x288 with 3 Axes>"
            ],
            "image/png": "[encoded data removed]"
          },
          "metadata": {
            "needs_background": "light"
          }
        }
      ]
    },
    {
      "cell_type": "markdown",
      "source": [
        "Đoạn code đã vẽ cho chúng ta 3 biểu đồ tương ứng với các cặp dữ liệu (K, Na), (K, age), (Na, age).\n",
        "\n",
        "Từ biểu đồ chúng ta có thể thấy được một số mối quan hệ dễ dàng hơn.\n",
        "\n",
        "Ví dụ như ở biểu đồ đầu tiên thì các điểm màu xanh dương tập trung ở chỗ có nồng độ natri cao "
      ],
      "metadata": {
        "id": "SLl5qJs2JJmc"
      }
    },
    {
      "cell_type": "markdown",
      "source": [
        "Để sử dụng decision tree thì các dữ liệu cần ở dạng số, nên chúng ta cần chuyển đổi các dữ liệu 'sex', 'BP' 'cholesterol' thành dữ liệu dạng số. \n",
        "\n",
        "Sử dụng hàm DicVectorizer của scikit-learn và fit_transform\n",
        "\n",
        "Để nó phù hợp với OpenCV thì chúng ta sẽ chuyển nó thành kiểu dữ liệu float"
      ],
      "metadata": {
        "id": "5gfCI1eHJ9bI"
      }
    },
    {
      "cell_type": "code",
      "source": [
        "import numpy as np\n",
        "from sklearn.feature_extraction import DictVectorizer\n",
        "vec = DictVectorizer(sparse=False)\n",
        "\n",
        "data_pre = vec.fit_transform(data)\n",
        "\n",
        "data_pre = np.array(data_pre, dtype=np.float32)\n",
        "target = np.array(target, dtype=np.float32)\n",
        "\n",
        "print(data_pre[0])\n"
      ],
      "metadata": {
        "colab": {
          "base_uri": "https://localhost:8080/"
        },
        "id": "aJt_qojvKhMn",
        "outputId": "bd005382-5b31-407b-ca16-4f7f9f6bcdd6"
      },
      "execution_count": 48,
      "outputs": [
        {
          "output_type": "stream",
          "name": "stdout",
          "text": [
            "[ 1.    0.    0.    0.06  0.66 33.    1.    0.    1.    0.  ]\n"
          ]
        }
      ]
    },
    {
      "cell_type": "markdown",
      "source": [
        "Vì có 2 điểm dữ liệu nên chúng ta sẽ chia nó thành 2 tập 15-5 tương ứng với bộ dữ liệu training và bộ dữ liệu kiểm tra:"
      ],
      "metadata": {
        "id": "kiXDEMsGLQgX"
      }
    },
    {
      "cell_type": "code",
      "source": [
        "import sklearn.model_selection as ms\n",
        "X_train, X_test, y_train, y_test = ms.train_test_split(data_pre, target, test_size=5, random_state=42)"
      ],
      "metadata": {
        "id": "odn7lNN_Ld1d"
      },
      "execution_count": 50,
      "outputs": []
    },
    {
      "cell_type": "markdown",
      "source": [
        "Hiển thị accuracy của decision tree"
      ],
      "metadata": {
        "id": "1lbjNYW3OdPP"
      }
    },
    {
      "cell_type": "code",
      "source": [
        "from sklearn import tree\n",
        "\n",
        "dtc = tree.DecisionTreeClassifier()\n",
        "\n",
        "dtc.fit(X_train, y_train)"
      ],
      "metadata": {
        "colab": {
          "base_uri": "https://localhost:8080/"
        },
        "id": "8FjVruW9MW-O",
        "outputId": "5479a71f-e5cd-4941-cf08-813faed84bf7"
      },
      "execution_count": 58,
      "outputs": [
        {
          "output_type": "execute_result",
          "data": {
            "text/plain": [
              "DecisionTreeClassifier()"
            ]
          },
          "metadata": {},
          "execution_count": 58
        }
      ]
    },
    {
      "cell_type": "code",
      "source": [
        "dtc.score(X_train, y_train)"
      ],
      "metadata": {
        "colab": {
          "base_uri": "https://localhost:8080/"
        },
        "id": "B9tuqgLiMxuq",
        "outputId": "0718b024-6f6b-421d-a67a-f279ecf7cc12"
      },
      "execution_count": 56,
      "outputs": [
        {
          "output_type": "execute_result",
          "data": {
            "text/plain": [
              "1.0"
            ]
          },
          "metadata": {},
          "execution_count": 56
        }
      ]
    },
    {
      "cell_type": "code",
      "source": [
        "dtc.score(X_test, y_test)"
      ],
      "metadata": {
        "colab": {
          "base_uri": "https://localhost:8080/"
        },
        "id": "VJ6M2ivWMrGk",
        "outputId": "8f0bc3c1-2457-403c-9482-d793b4826335"
      },
      "execution_count": 53,
      "outputs": [
        {
          "output_type": "execute_result",
          "data": {
            "text/plain": [
              "0.4"
            ]
          },
          "metadata": {},
          "execution_count": 53
        }
      ]
    }
  ]
}